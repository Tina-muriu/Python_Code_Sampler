{
 "cells": [
  {
   "cell_type": "code",
   "execution_count": 1,
   "id": "16e481dc",
   "metadata": {},
   "outputs": [],
   "source": [
    "def subtract(num_1,num_2):\n",
    "    result=num_1-num_2"
   ]
  },
  {
   "cell_type": "code",
   "execution_count": 2,
   "id": "361ee682",
   "metadata": {},
   "outputs": [],
   "source": [
    "subtract(10,7.7)"
   ]
  },
  {
   "cell_type": "code",
   "execution_count": 3,
   "id": "0b1e52ed",
   "metadata": {},
   "outputs": [],
   "source": [
    "r=subtract(100,65)"
   ]
  },
  {
   "cell_type": "code",
   "execution_count": 4,
   "id": "e575657d",
   "metadata": {},
   "outputs": [
    {
     "name": "stdout",
     "output_type": "stream",
     "text": [
      "None\n"
     ]
    }
   ],
   "source": [
    "print(r)"
   ]
  },
  {
   "cell_type": "code",
   "execution_count": 7,
   "id": "b3f18e5f",
   "metadata": {},
   "outputs": [
    {
     "data": {
      "text/plain": [
       "NoneType"
      ]
     },
     "execution_count": 7,
     "metadata": {},
     "output_type": "execute_result"
    }
   ],
   "source": [
    "type(r)"
   ]
  },
  {
   "cell_type": "code",
   "execution_count": 17,
   "id": "ed381c5e",
   "metadata": {},
   "outputs": [],
   "source": [
    "def subtract_returns_none_by_default(num_1,num_2):\n",
    "    result=num_1-num_2\n",
    "    return None"
   ]
  },
  {
   "cell_type": "code",
   "execution_count": 18,
   "id": "94f589f6",
   "metadata": {},
   "outputs": [
    {
     "name": "stdout",
     "output_type": "stream",
     "text": [
      "None\n"
     ]
    }
   ],
   "source": [
    "r = subtract_returns_none_by_default(100, 50)\n",
    "\n",
    "print(r)"
   ]
  },
  {
   "cell_type": "code",
   "execution_count": 19,
   "id": "a613d215",
   "metadata": {},
   "outputs": [
    {
     "data": {
      "text/plain": [
       "NoneType"
      ]
     },
     "execution_count": 19,
     "metadata": {},
     "output_type": "execute_result"
    }
   ],
   "source": [
    "type(r)"
   ]
  },
  {
   "cell_type": "code",
   "execution_count": 20,
   "id": "8fbdc7f2",
   "metadata": {},
   "outputs": [],
   "source": [
    "def subtract_returns_a_result(num_1,num_2):\n",
    "    result=num_1-num_2\n",
    "    return result"
   ]
  },
  {
   "cell_type": "code",
   "execution_count": 21,
   "id": "1afeb5d3",
   "metadata": {},
   "outputs": [
    {
     "name": "stdout",
     "output_type": "stream",
     "text": [
      "50\n"
     ]
    }
   ],
   "source": [
    "r=subtract_returns_a_result(100,50)\n",
    "print(r)"
   ]
  },
  {
   "cell_type": "code",
   "execution_count": 26,
   "id": "e3621d76",
   "metadata": {},
   "outputs": [],
   "source": [
    "def length(some_list):\n",
    "    count= 0\n",
    "    for element in some_list:\n",
    "        count += 1\n",
    "    print(\"The length of the list is,\", count)\n",
    "    return count"
   ]
  },
  {
   "cell_type": "code",
   "execution_count": 27,
   "id": "2bc7204c",
   "metadata": {},
   "outputs": [
    {
     "name": "stdout",
     "output_type": "stream",
     "text": [
      "The length of the list is, 3\n"
     ]
    }
   ],
   "source": [
    "l=length([100,200,300])"
   ]
  },
  {
   "cell_type": "code",
   "execution_count": 28,
   "id": "0f64b1ab",
   "metadata": {},
   "outputs": [
    {
     "data": {
      "text/plain": [
       "3"
      ]
     },
     "execution_count": 28,
     "metadata": {},
     "output_type": "execute_result"
    }
   ],
   "source": [
    "l"
   ]
  },
  {
   "cell_type": "code",
   "execution_count": 29,
   "id": "8622e790",
   "metadata": {},
   "outputs": [
    {
     "name": "stdout",
     "output_type": "stream",
     "text": [
      "3\n"
     ]
    }
   ],
   "source": [
    "print(l)"
   ]
  },
  {
   "cell_type": "code",
   "execution_count": 42,
   "id": "36b2856f",
   "metadata": {},
   "outputs": [],
   "source": [
    "def find_max_in_list(some_list):\n",
    "    max_element=some_list[0]\n",
    "    length=len(some_list)\n",
    "    for i in range(1, length):\n",
    "        if some_list[i]>max_element:\n",
    "            max_element=some_list[i]\n",
    "    return max_element"
   ]
  },
  {
   "cell_type": "code",
   "execution_count": 43,
   "id": "046ea46f",
   "metadata": {},
   "outputs": [],
   "source": [
    "num_list=[6,7,8,9,2,1,3]"
   ]
  },
  {
   "cell_type": "code",
   "execution_count": 44,
   "id": "fcb8340a",
   "metadata": {},
   "outputs": [
    {
     "name": "stdout",
     "output_type": "stream",
     "text": [
      "9\n"
     ]
    }
   ],
   "source": [
    "max_element =find_max_in_list(num_list)\n",
    "print(max_element)"
   ]
  },
  {
   "cell_type": "code",
   "execution_count": 45,
   "id": "b030c128",
   "metadata": {},
   "outputs": [],
   "source": [
    "num_list.append(24)"
   ]
  },
  {
   "cell_type": "code",
   "execution_count": 46,
   "id": "81d78b0e",
   "metadata": {},
   "outputs": [
    {
     "name": "stdout",
     "output_type": "stream",
     "text": [
      "24\n"
     ]
    }
   ],
   "source": [
    "max_element=find_max_in_list(num_list)\n",
    "print(max_element)"
   ]
  },
  {
   "cell_type": "code",
   "execution_count": 49,
   "id": "e00bf82d",
   "metadata": {},
   "outputs": [],
   "source": [
    "def empty_return(x,y):\n",
    "    total=x+y\n",
    "    return"
   ]
  },
  {
   "cell_type": "code",
   "execution_count": 50,
   "id": "506fa708",
   "metadata": {},
   "outputs": [],
   "source": [
    "result= empty_return(10,20)"
   ]
  },
  {
   "cell_type": "code",
   "execution_count": 51,
   "id": "a8333223",
   "metadata": {},
   "outputs": [
    {
     "name": "stdout",
     "output_type": "stream",
     "text": [
      "None\n"
     ]
    }
   ],
   "source": [
    "print(result)"
   ]
  },
  {
   "cell_type": "code",
   "execution_count": 52,
   "id": "340bc676",
   "metadata": {},
   "outputs": [
    {
     "data": {
      "text/plain": [
       "NoneType"
      ]
     },
     "execution_count": 52,
     "metadata": {},
     "output_type": "execute_result"
    }
   ],
   "source": [
    "type(result)"
   ]
  },
  {
   "cell_type": "code",
   "execution_count": 57,
   "id": "99772d0a",
   "metadata": {},
   "outputs": [],
   "source": [
    "def add_sub(x,y):\n",
    "    add_result=x+y\n",
    "    sub_result=x-y\n",
    "    return add_result,sub_result"
   ]
  },
  {
   "cell_type": "code",
   "execution_count": 58,
   "id": "42b9c479",
   "metadata": {},
   "outputs": [
    {
     "data": {
      "text/plain": [
       "(9, 1)"
      ]
     },
     "execution_count": 58,
     "metadata": {},
     "output_type": "execute_result"
    }
   ],
   "source": [
    "add_sub(5,4)"
   ]
  },
  {
   "cell_type": "markdown",
   "id": "6f7c138f",
   "metadata": {},
   "source": []
  },
  {
   "cell_type": "code",
   "execution_count": 64,
   "id": "3e4c2c05",
   "metadata": {},
   "outputs": [
    {
     "data": {
      "text/plain": [
       "9"
      ]
     },
     "execution_count": 64,
     "metadata": {},
     "output_type": "execute_result"
    }
   ],
   "source": [
    "result_1,result_2=add_sub(5,4) \n",
    "result_1\n"
   ]
  },
  {
   "cell_type": "code",
   "execution_count": 65,
   "id": "3dc5f02b",
   "metadata": {},
   "outputs": [
    {
     "data": {
      "text/plain": [
       "1"
      ]
     },
     "execution_count": 65,
     "metadata": {},
     "output_type": "execute_result"
    }
   ],
   "source": [
    "result_2"
   ]
  },
  {
   "cell_type": "code",
   "execution_count": 62,
   "id": "5121b4fa",
   "metadata": {},
   "outputs": [
    {
     "data": {
      "text/plain": [
       "1"
      ]
     },
     "execution_count": 62,
     "metadata": {},
     "output_type": "execute_result"
    }
   ],
   "source": [
    "_, result2=add_sub(5,4)\n",
    "result_2"
   ]
  },
  {
   "cell_type": "code",
   "execution_count": 63,
   "id": "de6dc199",
   "metadata": {},
   "outputs": [
    {
     "data": {
      "text/plain": [
       "1"
      ]
     },
     "execution_count": 63,
     "metadata": {},
     "output_type": "execute_result"
    }
   ],
   "source": [
    "result_2"
   ]
  },
  {
   "cell_type": "code",
   "execution_count": 67,
   "id": "648450c2",
   "metadata": {},
   "outputs": [],
   "source": [
    "def positive_or_negative(num):\n",
    "    if num>0:\n",
    "        return \"positive!\"\n",
    "    else:\n",
    "        return\"zero or negative\""
   ]
  },
  {
   "cell_type": "code",
   "execution_count": 69,
   "id": "f5fb5587",
   "metadata": {},
   "outputs": [
    {
     "data": {
      "text/plain": [
       "'positive!'"
      ]
     },
     "execution_count": 69,
     "metadata": {},
     "output_type": "execute_result"
    }
   ],
   "source": [
    "positive_or_negative(20)"
   ]
  },
  {
   "cell_type": "code",
   "execution_count": 70,
   "id": "32885800",
   "metadata": {},
   "outputs": [
    {
     "data": {
      "text/plain": [
       "'zero or negative'"
      ]
     },
     "execution_count": 70,
     "metadata": {},
     "output_type": "execute_result"
    }
   ],
   "source": [
    "positive_or_negative(-10)"
   ]
  },
  {
   "cell_type": "code",
   "execution_count": 77,
   "id": "530d3db3",
   "metadata": {},
   "outputs": [
    {
     "data": {
      "text/plain": [
       "'null'"
      ]
     },
     "execution_count": 77,
     "metadata": {},
     "output_type": "execute_result"
    }
   ],
   "source": [
    "def positive_or_negative(num):\n",
    "    if num>0:\n",
    "        return \"positive!\"\n",
    "    elif num < 0:\n",
    "        \n",
    "        return \"negative\"\n",
    "    else:\n",
    "        return \"null\"\n",
    "positive_or_negative(0)"
   ]
  },
  {
   "cell_type": "code",
   "execution_count": 78,
   "id": "6c1d1461",
   "metadata": {},
   "outputs": [
    {
     "data": {
      "text/plain": [
       "'positive!'"
      ]
     },
     "execution_count": 78,
     "metadata": {},
     "output_type": "execute_result"
    }
   ],
   "source": [
    "positive_or_negative(12)"
   ]
  },
  {
   "cell_type": "code",
   "execution_count": 79,
   "id": "0c52b2e3",
   "metadata": {},
   "outputs": [
    {
     "data": {
      "text/plain": [
       "'negative'"
      ]
     },
     "execution_count": 79,
     "metadata": {},
     "output_type": "execute_result"
    }
   ],
   "source": [
    "positive_or_negative(-78)"
   ]
  },
  {
   "cell_type": "code",
   "execution_count": 84,
   "id": "7cbb1439",
   "metadata": {},
   "outputs": [],
   "source": [
    "def positive_neg_forgottenreturn(num):\n",
    "    if num >0:\n",
    "        return \"positive\"\n",
    "    else:\n",
    "        return \"Neg\"\n",
    "    \n"
   ]
  },
  {
   "cell_type": "code",
   "execution_count": 85,
   "id": "2ecfd0ef",
   "metadata": {},
   "outputs": [
    {
     "data": {
      "text/plain": [
       "'Neg'"
      ]
     },
     "execution_count": 85,
     "metadata": {},
     "output_type": "execute_result"
    }
   ],
   "source": [
    "positive_neg_forgottenreturn(0)"
   ]
  },
  {
   "cell_type": "code",
   "execution_count": 89,
   "id": "7214b751",
   "metadata": {},
   "outputs": [],
   "source": [
    "def find_fcapital_letters(some_string):\n",
    "    capital_letter=None\n",
    "    for ch in some_string:\n",
    "        if ch.upper()==ch and ch !=\"\":\n",
    "            capital_letter=ch\n",
    "            break\n",
    "    if capital_letter is None:\n",
    "        return\"No capital letters found\"\n",
    "    else:\n",
    "        return\"First Capital_letter\" + capital_letter\n"
   ]
  },
  {
   "cell_type": "code",
   "execution_count": 100,
   "id": "ac72bd3c",
   "metadata": {},
   "outputs": [],
   "source": [
    "def create_dictionary_representation(name,age,occupation):\n",
    "    dictionary={\n",
    "        'My name is': name,\n",
    "        'I am ':age,'old   '\n",
    "        \"occupation\":occupation\n",
    "    }\n",
    "    return dictionary"
   ]
  },
  {
   "cell_type": "code",
   "execution_count": 101,
   "id": "b93fce76",
   "metadata": {},
   "outputs": [
    {
     "data": {
      "text/plain": [
       "{'My name is': 'May', 'I am ': 34, 'old   occupation': 'Programmer'}"
      ]
     },
     "execution_count": 101,
     "metadata": {},
     "output_type": "execute_result"
    }
   ],
   "source": [
    "info_dictionary=create_dictionary_representation(\"May\",34,\"Programmer\")\n",
    "info_dictionary"
   ]
  },
  {
   "cell_type": "code",
   "execution_count": 102,
   "id": "2f686657",
   "metadata": {},
   "outputs": [],
   "source": [
    "def generate_list(name, num_elements):\n",
    "    return_list=[]\n",
    "    for i in range (num_elements):\n",
    "        return_list.append(name)\n",
    "    return return_list"
   ]
  },
  {
   "cell_type": "code",
   "execution_count": 103,
   "id": "a2bf5e0e",
   "metadata": {},
   "outputs": [
    {
     "data": {
      "text/plain": [
       "['iris', 'iris', 'iris', 'iris', 'iris']"
      ]
     },
     "execution_count": 103,
     "metadata": {},
     "output_type": "execute_result"
    }
   ],
   "source": [
    "some_list=generate_list(\"iris\",5)\n",
    "some_list"
   ]
  },
  {
   "cell_type": "code",
   "execution_count": 110,
   "id": "53126c9e",
   "metadata": {},
   "outputs": [
    {
     "data": {
      "text/plain": [
       "['Tina', 'Tina', 'Tina', 'Tina', 'Tina', 'Tina', 'Tina']"
      ]
     },
     "execution_count": 110,
     "metadata": {},
     "output_type": "execute_result"
    }
   ],
   "source": [
    "some_list= generate_list(\"Tina\",7)\n",
    "some_list"
   ]
  },
  {
   "cell_type": "code",
   "execution_count": 119,
   "id": "cc5b1682",
   "metadata": {},
   "outputs": [],
   "source": [
    "def add(a, b):\n",
    "    return a + b\n",
    "\n",
    "def sub(a, b):\n",
    "    return a - b\n",
    "\n",
    "def mul(a, b):\n",
    "    return a * b\n",
    "\n",
    "def div(a, b):\n",
    "    if b != 0:\n",
    "        return a / b\n",
    "    else:\n",
    "        return \"Cannot divide by zero\""
   ]
  },
  {
   "cell_type": "code",
   "execution_count": 120,
   "id": "e6222d97",
   "metadata": {},
   "outputs": [],
   "source": [
    "def calculate(a,b, operator):\n",
    "    if operator==\"add\":\n",
    "        return add(a,b)\n",
    "    if operator==\"sub\":\n",
    "        return sub(a,b)\n",
    "    if operator== \"mul\":\n",
    "        return mul(a,b)\n",
    "    if operator==\"div\":\n",
    "        return div(a,b)"
   ]
  },
  {
   "cell_type": "code",
   "execution_count": 121,
   "id": "9867e5a1",
   "metadata": {},
   "outputs": [
    {
     "data": {
      "text/plain": [
       "15"
      ]
     },
     "execution_count": 121,
     "metadata": {},
     "output_type": "execute_result"
    }
   ],
   "source": [
    "calculate(10, 5, \"add\")"
   ]
  },
  {
   "cell_type": "code",
   "execution_count": 122,
   "id": "2538fd15",
   "metadata": {},
   "outputs": [
    {
     "data": {
      "text/plain": [
       "60"
      ]
     },
     "execution_count": 122,
     "metadata": {},
     "output_type": "execute_result"
    }
   ],
   "source": [
    "calculate(12,5,\"mul\")"
   ]
  },
  {
   "cell_type": "code",
   "execution_count": null,
   "id": "b639736f",
   "metadata": {},
   "outputs": [],
   "source": []
  }
 ],
 "metadata": {
  "kernelspec": {
   "display_name": "Python 3 (ipykernel)",
   "language": "python",
   "name": "python3"
  },
  "language_info": {
   "codemirror_mode": {
    "name": "ipython",
    "version": 3
   },
   "file_extension": ".py",
   "mimetype": "text/x-python",
   "name": "python",
   "nbconvert_exporter": "python",
   "pygments_lexer": "ipython3",
   "version": "3.10.9"
  }
 },
 "nbformat": 4,
 "nbformat_minor": 5
}
